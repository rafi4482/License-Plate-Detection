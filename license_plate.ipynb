{
 "cells": [
  {
   "cell_type": "code",
   "execution_count": null,
   "metadata": {},
   "outputs": [],
   "source": [
    "%pip install ultralytics"
   ]
  },
  {
   "cell_type": "code",
   "execution_count": 2,
   "metadata": {},
   "outputs": [],
   "source": [
    "from ultralytics import YOLO\n"
   ]
  },
  {
   "cell_type": "code",
   "execution_count": 3,
   "metadata": {},
   "outputs": [],
   "source": [
    "model = YOLO(\"yolov8n.pt\")"
   ]
  },
  {
   "cell_type": "code",
   "execution_count": null,
   "metadata": {},
   "outputs": [],
   "source": [
    "results = model.train(\n",
    "    data=\"data.yaml\",       \n",
    "    epochs=50,             \n",
    "    imgsz=640,             \n",
    "    batch=16,              \n",
    "    name=\"license_plate_detection\"  \n",
    ")"
   ]
  },
  {
   "cell_type": "code",
   "execution_count": null,
   "metadata": {},
   "outputs": [],
   "source": [
    "metrics = model.val()  \n",
    "print(metrics)"
   ]
  },
  {
   "cell_type": "code",
   "execution_count": null,
   "metadata": {},
   "outputs": [],
   "source": [
    "model.export(format=\"onnx\")\n"
   ]
  },
  {
   "cell_type": "code",
   "execution_count": null,
   "metadata": {},
   "outputs": [
    {
     "name": "stdout",
     "output_type": "stream",
     "text": [
      "\n",
      "image 1/1 e:\\YL82\\YL8\\test\\images\\N12_jpeg.rf.74810b63cbf14643d3fb92750563e477.jpg: 640x640 1 license-plate, 105.2ms\n",
      "Speed: 3.8ms preprocess, 105.2ms inference, 1.1ms postprocess per image at shape (1, 3, 640, 640)\n"
     ]
    }
   ],
   "source": [
    "trained_model = YOLO(\"runs/detect/license_plate_detection/weights/best.pt\")\n",
    "\n",
    "results = trained_model(\"test/images/N12_jpeg.rf.74810b63cbf14643d3fb92750563e477.jpg\")\n",
    "\n",
    "for result in results:\n",
    "    result.show()  \n",
    "    result.save(\"output_image.jpg\")  "
   ]
  },
  {
   "cell_type": "code",
   "execution_count": null,
   "metadata": {},
   "outputs": [
    {
     "name": "stdout",
     "output_type": "stream",
     "text": [
      "\n",
      "image 1/1 e:\\YL82\\YL8\\test\\images\\images.jpg: 480x640 1 license-plate, 105.8ms\n",
      "Speed: 2.7ms preprocess, 105.8ms inference, 1.7ms postprocess per image at shape (1, 3, 480, 640)\n"
     ]
    }
   ],
   "source": [
    "trained_model = YOLO(\"runs/detect/license_plate_detection/weights/best.pt\")\n",
    "\n",
    "results = trained_model(\"test/images/images.jpg\")\n",
    "\n",
    "for result in results:\n",
    "    result.show()  \n",
    "    result.saved(\"output_image.jpg\")  "
   ]
  }
 ],
 "metadata": {
  "kernelspec": {
   "display_name": "base",
   "language": "python",
   "name": "python3"
  },
  "language_info": {
   "codemirror_mode": {
    "name": "ipython",
    "version": 3
   },
   "file_extension": ".py",
   "mimetype": "text/x-python",
   "name": "python",
   "nbconvert_exporter": "python",
   "pygments_lexer": "ipython3",
   "version": "3.12.7"
  }
 },
 "nbformat": 4,
 "nbformat_minor": 2
}
